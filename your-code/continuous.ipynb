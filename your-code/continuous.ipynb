{
 "cells": [
  {
   "cell_type": "markdown",
   "metadata": {},
   "source": [
    "# Before your start:\n",
    "\n",
    "    Read the README.md file\n",
    "    Comment as much as you can and use the resources (README.md file)\n",
    "    Happy learning!"
   ]
  },
  {
   "cell_type": "markdown",
   "metadata": {},
   "source": [
    "In this exercise, we  will generate random numbers from the continuous disributions we learned in the lesson. There are two ways to generate random numbers:\n",
    "\n",
    "1. Using the numpy library \n",
    "1. using the Scipy library \n",
    "\n",
    "Use either or both of the lbraries in this exercise."
   ]
  },
  {
   "cell_type": "markdown",
   "metadata": {},
   "source": [
    "## Uniform Distribution\n",
    "\n",
    "To generate uniform random numbers between any two given values using scipy, we can either use the following code or the code that we have\n",
    "discussed in class:"
   ]
  },
  {
   "cell_type": "code",
   "execution_count": 1,
   "metadata": {},
   "outputs": [
    {
     "name": "stdout",
     "output_type": "stream",
     "text": [
      "[2.34743325 2.81081623 2.34482723 2.11121156 2.98296938 2.97313658\n",
      " 2.2093147  2.41240243 2.97445339 2.08854748]\n"
     ]
    }
   ],
   "source": [
    "from scipy.stats import uniform\n",
    "x = uniform.rvs(size=10)\n",
    "a = 2\n",
    "b = 3\n",
    "randoms  = a + (b-a)*x\n",
    "print(randoms)"
   ]
  },
  {
   "cell_type": "markdown",
   "metadata": {},
   "source": [
    "**Your task:**\n",
    "\n",
    "1. Based on the code above, write a function that generates uniformly distributed random numbers. There are several requirements for your function:\n",
    "    * It should accept 3 parameters: \n",
    "        * `bottom` - the lower boundary of the generated numbers\n",
    "        * `ceiling` - the upper boundary of the generated numbers\n",
    "        * `count` - how many numbers to generate\n",
    "    * It should return an array of uniformly distributed random numbers\n",
    "\n",
    "1. Call your function with 2 sets of params below:\n",
    "    * bottom=10, ceiling=15, count=100\n",
    "    * bottom=10, ceiling=60, count=1,000\n",
    "\n",
    "1. Plot the uniform distributions generated above using histograms, where x axis is the value and y axis is the count. Let the histogram's number of bins be 10.\n",
    "\n",
    "Your output should look like below:\n",
    "\n",
    "![uniform distribution](ud.png)"
   ]
  },
  {
   "cell_type": "code",
   "execution_count": 4,
   "metadata": {},
   "outputs": [],
   "source": [
    "# your code here\n",
    "\n",
    "def uniform(bottom, ceiling, count):\n",
    "    from scipy.stats import uniform\n",
    "    x = uniform.rvs(size=count)\n",
    "    a= 2\n",
    "    b = 3\n",
    "    return bottom + (ceiling-bottom)*x\n"
   ]
  },
  {
   "cell_type": "code",
   "execution_count": 6,
   "metadata": {},
   "outputs": [
    {
     "data": {
      "text/plain": [
       "array([10.65594481, 14.35686662, 12.14188793, 11.77855654, 10.96975979,\n",
       "       13.71409705, 14.51525131, 10.15596874, 11.52445497, 10.04203807,\n",
       "       12.32167732, 11.25578492, 14.91224236, 12.9883319 , 14.13073214,\n",
       "       12.3938788 , 14.7048108 , 12.33152791, 13.49671814, 13.9433021 ,\n",
       "       12.09484933, 11.4247801 , 10.62998993, 13.74416294, 14.04649873,\n",
       "       13.19662127, 10.01798234, 13.09910878, 12.66937629, 11.11605008,\n",
       "       12.32945828, 12.93351313, 10.28850244, 13.23484886, 12.4068308 ,\n",
       "       10.630652  , 12.53287558, 13.91441449, 13.16227507, 10.27265536,\n",
       "       10.315298  , 11.76622804, 13.41293773, 14.42053536, 14.13484709,\n",
       "       14.35350041, 14.18610259, 12.11805213, 14.20691838, 13.52962347,\n",
       "       10.7212379 , 10.24378974, 13.61607232, 13.27694103, 13.88343066,\n",
       "       13.99444979, 10.52104966, 14.63933434, 10.47503757, 13.28665599,\n",
       "       12.52267225, 11.71248905, 10.80529329, 11.15266048, 12.00864009,\n",
       "       11.20119167, 13.47181306, 10.15922646, 10.06032916, 13.6792338 ,\n",
       "       13.51559531, 11.4535238 , 12.76797753, 13.10585292, 12.74970568,\n",
       "       11.81220363, 10.21197194, 11.01940046, 10.17181409, 12.66401311,\n",
       "       14.79816156, 11.41561827, 11.66068772, 13.26519368, 10.710304  ,\n",
       "       14.1046711 , 11.39382007, 13.99696687, 10.77385897, 11.47800103,\n",
       "       14.04855178, 12.02476795, 10.15149863, 13.56956846, 13.97705637,\n",
       "       13.22151132, 10.0786065 , 13.39014758, 14.60842205, 10.66471968])"
      ]
     },
     "execution_count": 6,
     "metadata": {},
     "output_type": "execute_result"
    }
   ],
   "source": [
    "uniform(10,15,100)"
   ]
  },
  {
   "cell_type": "code",
   "execution_count": 8,
   "metadata": {
    "collapsed": true,
    "jupyter": {
     "outputs_hidden": true
    },
    "tags": []
   },
   "outputs": [
    {
     "data": {
      "text/plain": [
       "array([32.01849886, 39.28076559, 22.16599477, 14.80683226, 15.96672674,\n",
       "       14.46197937, 19.18943577, 45.34666304, 42.29758713, 11.33246438,\n",
       "       36.29109178, 11.22739039, 39.66336277, 58.71315664, 43.06225585,\n",
       "       52.79474878, 57.13218079, 42.89149151, 52.76171186, 41.23784684,\n",
       "       34.61496173, 49.18993859, 59.08416826, 51.84690932, 20.66026773,\n",
       "       38.90304722, 26.94786291, 39.37783303, 21.90455885, 37.18308953,\n",
       "       18.03413031, 44.38205672, 40.77254633, 13.84633837, 31.44094627,\n",
       "       17.29729189, 59.88204622, 13.16405354, 50.25201543, 40.90099235,\n",
       "       39.53318393, 42.46081804, 43.99292281, 43.83956315, 38.97038461,\n",
       "       25.29873296, 26.33994231, 53.91312159, 20.24994584, 47.28277621,\n",
       "       23.58037189, 48.33837204, 56.43254742, 25.50867285, 51.28464361,\n",
       "       40.35652949, 57.4739058 , 20.3151551 , 23.35584014, 36.30778252,\n",
       "       39.6394937 , 37.84598145, 29.20909822, 36.85031946, 14.93113572,\n",
       "       57.58286071, 37.68232514, 43.15564105, 46.24833828, 10.24040695,\n",
       "       10.57653964, 26.6794073 , 29.7253412 , 52.70174005, 13.37031225,\n",
       "       17.09500116, 15.3736918 , 47.74569437, 58.50973342, 47.01081476,\n",
       "       50.717032  , 56.88597047, 31.22633271, 34.99808335, 21.03492094,\n",
       "       27.42051844, 20.16352757, 52.85731043, 25.46519461, 21.37780429,\n",
       "       16.70689755, 56.5903424 , 37.84330774, 21.7439506 , 36.1457923 ,\n",
       "       38.0139649 , 30.12825046, 51.67537947, 29.38208614, 11.82255786,\n",
       "       18.33700008, 17.60490689, 21.38050773, 41.50564756, 32.25525548,\n",
       "       38.0729704 , 29.8953435 , 53.84812686, 55.72389187, 19.73008371,\n",
       "       25.23431267, 13.60060348, 58.16793811, 38.67688351, 56.57182121,\n",
       "       13.35958818, 54.98867685, 12.80461532, 52.82028393, 21.08290863,\n",
       "       58.52899654, 24.78314186, 15.4651523 , 11.08667123, 45.66303159,\n",
       "       44.85118612, 35.11785377, 56.08762193, 32.956531  , 47.40626554,\n",
       "       17.56358528, 29.40497403, 40.99374877, 24.28436314, 57.45218389,\n",
       "       48.83980075, 11.35366852, 13.28052735, 26.87596163, 51.18115402,\n",
       "       45.41162149, 16.00829487, 48.47736322, 23.25439198, 42.73832592,\n",
       "       24.48018417, 34.4947712 , 56.63665406, 55.48031248, 16.20368942,\n",
       "       26.35987382, 41.47764986, 23.5475702 , 41.96779479, 50.70377797,\n",
       "       26.35418114, 50.40523102, 20.39837187, 58.77700313, 48.3629283 ,\n",
       "       53.3797046 , 29.2767571 , 43.64975045, 20.72270871, 29.17239082,\n",
       "       39.56485337, 15.98958789, 39.45544697, 16.38844955, 32.27751673,\n",
       "       25.05335496, 56.0157904 , 44.22826874, 35.30874033, 52.49055603,\n",
       "       45.99238635, 41.50873628, 39.72163878, 16.33216365, 38.46983428,\n",
       "       39.94310112, 57.83492237, 37.85502059, 43.04880489, 10.33621083,\n",
       "       38.56793394, 44.19383736, 52.64659653, 38.41979937, 26.03385159,\n",
       "       39.94727214, 47.09980666, 13.77820242, 54.50809876, 40.602771  ,\n",
       "       32.26116558, 39.81719931, 47.66549285, 54.24780594, 45.29950183,\n",
       "       13.36829931, 16.68874106, 32.49151861, 14.82217675, 19.15972946,\n",
       "       45.68127009, 18.09765783, 46.129625  , 25.47665102, 29.69091644,\n",
       "       10.53461421, 48.96708354, 45.79490672, 21.56129809, 55.89881855,\n",
       "       22.64375056, 45.6014143 , 30.04833853, 35.86320809, 42.06721856,\n",
       "       17.91107804, 49.12109134, 29.68145199, 23.13343443, 31.05074821,\n",
       "       26.85422831, 55.90173587, 32.81445396, 57.05950192, 33.23791155,\n",
       "       47.89301403, 48.38279132, 44.65719924, 25.30010163, 53.39306903,\n",
       "       27.54832951, 40.58519425, 21.76374748, 14.92228047, 11.92367022,\n",
       "       46.38648009, 15.76692525, 14.12692527, 39.45145142, 23.01147609,\n",
       "       27.96523182, 57.79171867, 57.62092262, 27.30995605, 37.29569294,\n",
       "       26.80084973, 52.17382367, 15.60332227, 49.3563046 , 14.15270174,\n",
       "       57.011085  , 29.80091216, 44.02536843, 26.83869365, 19.97398511,\n",
       "       38.07377441, 24.97748315, 55.66234279, 46.03906913, 47.63901037,\n",
       "       52.6824053 , 21.68277883, 45.36065918, 47.24831686, 51.38561492,\n",
       "       51.43670724, 41.67687474, 31.90681899, 43.35284096, 12.88123513,\n",
       "       35.51384453, 52.78197225, 49.13576769, 10.23528479, 39.51230465,\n",
       "       24.52566076, 47.91038105, 52.43614305, 27.97549903, 55.09090845,\n",
       "       34.83378266, 40.26336784, 26.73418362, 46.28855057, 11.92539535,\n",
       "       14.46587114, 58.0072971 , 51.62596956, 39.58325662, 23.67788313,\n",
       "       32.09391925, 24.23298421, 55.50904339, 33.56413592, 49.1566298 ,\n",
       "       45.93376659, 55.80866227, 11.38872419, 37.77592212, 25.69277564,\n",
       "       18.25472697, 13.92107777, 11.8200936 , 51.64349384, 54.66158231,\n",
       "       23.72936836, 29.43347822, 37.86723683, 38.56704856, 21.65641922,\n",
       "       31.8076059 , 12.86527437, 20.96148144, 15.27063354, 29.12410732,\n",
       "       37.68511441, 28.08128675, 38.35126535, 30.94133753, 48.05425815,\n",
       "       34.58684383, 44.47502683, 51.73278723, 51.6954025 , 39.11090267,\n",
       "       59.4226101 , 36.30487091, 21.22126137, 43.49587598, 21.7988002 ,\n",
       "       31.81102017, 28.56565645, 25.79111159, 51.68503515, 25.43641551,\n",
       "       27.52468531, 49.54430369, 59.57595452, 40.53686852, 43.0285426 ,\n",
       "       51.00797389, 50.37406437, 47.21920403, 17.88366996, 27.69439182,\n",
       "       23.33616274, 10.2452973 , 45.74052834, 29.75781334, 45.89310743,\n",
       "       57.06651284, 36.16517995, 51.2620315 , 47.7318211 , 35.34382673,\n",
       "       49.15078898, 10.96078887, 58.85499697, 27.9125297 , 35.88912323,\n",
       "       31.96933403, 34.81332924, 31.25315752, 17.19582848, 46.19421633,\n",
       "       39.03099237, 14.34313127, 45.84087053, 31.81399649, 16.8695723 ,\n",
       "       57.53133844, 36.6247786 , 48.44954532, 35.55732739, 46.1197344 ,\n",
       "       41.04729759, 22.29859343, 15.65087822, 20.66896523, 11.45168011,\n",
       "       12.27901767, 14.52811136, 56.64966186, 31.45772767, 42.69657559,\n",
       "       51.59509413, 36.33903227, 12.15442241, 20.39788597, 56.55742931,\n",
       "       36.02237453, 50.92557574, 51.1719252 , 39.74086788, 44.95211723,\n",
       "       53.15891145, 59.59139241, 43.08499659, 27.10565071, 46.13773568,\n",
       "       58.39376545, 25.05201554, 43.11611608, 44.98306727, 46.77003164,\n",
       "       17.07173376, 10.92595062, 17.08318453, 50.54882468, 58.41097992,\n",
       "       30.63808407, 58.56344766, 38.6628228 , 38.1875999 , 15.15750272,\n",
       "       56.85471556, 43.12365582, 56.17272921, 11.89683594, 30.72542259,\n",
       "       27.41376246, 53.39507889, 18.41741302, 50.56214266, 14.79622978,\n",
       "       19.5062538 , 16.15169331, 53.7645356 , 17.3961108 , 56.73428178,\n",
       "       22.72719007, 53.60984183, 11.77961455, 11.60024811, 44.13218611,\n",
       "       55.4838354 , 24.25872919, 36.37906956, 58.97082711, 20.88313149,\n",
       "       17.66053193, 48.5731764 , 43.97902252, 39.33441674, 19.93648833,\n",
       "       38.33643776, 24.77777781, 47.72239441, 34.34840409, 59.4190518 ,\n",
       "       51.6891837 , 37.7673048 , 50.61128444, 57.54210393, 22.46386624,\n",
       "       41.90206685, 55.74082264, 27.58672717, 27.17731995, 39.81058067,\n",
       "       40.18852999, 11.74116216, 43.02205302, 47.85254945, 51.19139484,\n",
       "       37.04726975, 59.13876753, 28.4328811 , 48.50796713, 46.21428018,\n",
       "       12.91791212, 48.64583472, 17.02778797, 41.41431614, 54.87676517,\n",
       "       22.77630422, 12.56934683, 54.27073278, 49.57674732, 27.92738917,\n",
       "       34.21684108, 22.62023908, 44.10491421, 28.0230482 , 46.0353967 ,\n",
       "       37.36741738, 44.79552731, 35.00452342, 29.767244  , 31.5505778 ,\n",
       "       48.69133552, 29.22262691, 51.88469568, 48.327297  , 23.75470216,\n",
       "       35.49544034, 42.68628308, 39.90031895, 54.02842295, 31.11193369,\n",
       "       45.26665937, 31.90463149, 37.80682992, 40.36534138, 46.65522434,\n",
       "       51.35014876, 11.39235921, 25.88006162, 10.05057647, 19.16750196,\n",
       "       51.61466186, 36.89000166, 15.45465108, 44.52695391, 39.45709197,\n",
       "       21.92408684, 57.42728772, 45.15893305, 22.91554005, 18.04991871,\n",
       "       39.95665198, 35.21024361, 56.99412708, 34.54429101, 52.82130002,\n",
       "       14.10925857, 13.1446083 , 50.0684979 , 55.88787413, 12.94357666,\n",
       "       25.1428096 , 12.64851819, 42.20436601, 20.71964793, 41.71386197,\n",
       "       49.22588479, 44.08660291, 39.65966468, 31.10547315, 26.6734745 ,\n",
       "       20.65198202, 46.78907212, 50.58567063, 48.25377973, 51.02306207,\n",
       "       45.24859113, 48.31409322, 57.08725185, 58.96468267, 33.61170508,\n",
       "       52.24178641, 54.07816573, 30.77958311, 38.85038214, 24.69594304,\n",
       "       36.18384621, 23.62990916, 52.50022216, 14.40247933, 26.36324745,\n",
       "       36.91168678, 52.23650751, 34.33708315, 23.91880189, 28.23259006,\n",
       "       46.7780381 , 28.72722483, 32.69548484, 42.70416884, 24.21577611,\n",
       "       33.62779294, 24.95340449, 37.99815959, 57.17869015, 54.01123932,\n",
       "       50.47500068, 56.61994488, 36.32294336, 54.31473247, 50.91836544,\n",
       "       29.14270627, 50.02524971, 36.01628613, 44.76804994, 15.18044833,\n",
       "       53.77740676, 24.36413326, 11.10651007, 53.68354297, 14.70879498,\n",
       "       18.77362071, 32.15569156, 20.35077755, 21.44413487, 33.45215973,\n",
       "       50.45700689, 43.24951381, 12.86773259, 48.94151307, 12.99698598,\n",
       "       40.44474348, 34.79316325, 57.44414935, 24.43180174, 36.59735792,\n",
       "       17.30004222, 12.83653519, 44.18933348, 49.85887716, 15.003613  ,\n",
       "       15.53332493, 57.07982863, 28.13769813, 10.92011099, 42.29392538,\n",
       "       38.1768366 , 31.77453871, 26.3146898 , 35.13997798, 16.74653724,\n",
       "       48.18526933, 45.78789819, 26.04074089, 21.91716438, 48.06274805,\n",
       "       53.99447093, 14.57026337, 35.49513058, 24.78574545, 45.41660651,\n",
       "       41.61224463, 15.45718675, 46.03126754, 53.79749214, 44.08525956,\n",
       "       38.71024605, 53.58962572, 49.87606757, 45.59841546, 53.37462835,\n",
       "       14.90155805, 55.20520142, 34.47604432, 46.59568337, 11.29150336,\n",
       "       26.35908647, 44.51128254, 46.96705961, 53.11013406, 40.22705468,\n",
       "       40.81250043, 33.03793808, 41.31533211, 26.44535526, 59.67824976,\n",
       "       30.03535294, 51.84287405, 11.82205363, 31.98641068, 56.82805985,\n",
       "       16.0401751 , 33.39675929, 19.90386818, 22.13753601, 46.83131574,\n",
       "       22.85744391, 15.39400838, 19.55433871, 22.07201052, 58.67727809,\n",
       "       18.93105318, 43.43363742, 39.32054439, 50.01507651, 57.28908589,\n",
       "       58.74751312, 46.33898145, 49.26969023, 26.3721395 , 38.23811918,\n",
       "       28.70645778, 43.66532731, 37.10278602, 44.61284761, 42.0008087 ,\n",
       "       40.46545073, 46.43819855, 52.04880902, 35.60729888, 46.34997684,\n",
       "       38.90035929, 23.23842291, 30.17719295, 12.47456485, 59.53933929,\n",
       "       33.27577768, 52.93833102, 23.76430956, 59.51467871, 43.31432789,\n",
       "       41.59636383, 39.26960457, 46.3604995 , 41.88383893, 27.11026638,\n",
       "       48.00749799, 33.9566413 , 20.12946681, 43.4946276 , 22.42780991,\n",
       "       54.01393429, 17.03638561, 51.97038614, 11.65791717, 24.46301834,\n",
       "       38.03212076, 55.82934454, 26.25311628, 54.79295399, 22.36725648,\n",
       "       45.72688041, 50.09776768, 49.36135181, 33.81254199, 20.92589917,\n",
       "       27.68314243, 41.68064104, 34.55659911, 42.8754589 , 11.9991353 ,\n",
       "       52.9770233 , 21.16932463, 56.82105542, 19.99441455, 24.05745743,\n",
       "       14.96828879, 42.49946015, 49.93363532, 17.55065151, 30.39540109,\n",
       "       24.36864621, 20.46258192, 29.39614491, 54.80657779, 45.01897444,\n",
       "       42.7041413 , 34.51619409, 11.17336614, 26.24033554, 35.73347842,\n",
       "       31.75665572, 37.19234254, 21.94889405, 38.19275553, 31.70573269,\n",
       "       36.37239005, 43.3900035 , 35.91738238, 58.41993602, 49.32357816,\n",
       "       28.4052547 , 38.72491937, 25.78938328, 49.11837641, 14.2826269 ,\n",
       "       15.68515521, 31.35866922, 17.72389795, 50.72608854, 37.16861306,\n",
       "       24.09875258, 24.75765078, 50.71811724, 44.79377589, 33.30815056,\n",
       "       37.45165438, 28.59198478, 46.75149226, 26.19510407, 18.91035036,\n",
       "       52.02142044, 42.66306314, 44.14158092, 47.22345685, 54.98138786,\n",
       "       42.15538345, 24.75827341, 56.2145286 , 13.01145987, 58.81363721,\n",
       "       57.52307126, 21.56609267, 18.94662524, 28.49374085, 11.27099526,\n",
       "       48.637727  , 27.69092221, 41.01821436, 40.86930711, 15.22754276,\n",
       "       59.99397325, 44.43261027, 12.82338234, 27.37116124, 15.37513634,\n",
       "       45.74512075, 53.42887698, 55.94453382, 50.7437949 , 26.55744081,\n",
       "       26.58327089, 34.14148856, 32.65712324, 45.60593563, 59.94908012,\n",
       "       41.58403773, 17.19029474, 27.27558186, 47.1528392 , 35.61650605,\n",
       "       42.10269869, 41.67415923, 34.19270127, 45.46412243, 57.24297711,\n",
       "       59.49230661, 37.58330386, 47.99878639, 40.65484733, 23.94385633,\n",
       "       25.136608  , 15.95256383, 12.86107007, 47.8900773 , 51.79892401,\n",
       "       24.85338193, 49.34853155, 32.96992052, 59.10103203, 20.33745264,\n",
       "       19.32156135, 30.83677818, 33.63296287, 41.98791869, 38.60362724,\n",
       "       26.55473601, 11.26261081, 26.03223642, 45.12531902, 40.94869846,\n",
       "       44.09623336, 10.73997617, 50.19848137, 44.54822191, 26.21374773,\n",
       "       56.75766921, 38.48178877, 56.82680171, 17.71281647, 52.78834727,\n",
       "       26.52414409, 20.17588852, 20.22807295, 14.12517164, 17.38144368,\n",
       "       12.69642302, 34.50497448, 10.49294569, 45.78155747, 41.34919147,\n",
       "       18.07979777, 22.41292419, 42.28234353, 49.1263579 , 36.12607649,\n",
       "       58.36266969, 29.67599778, 15.9527662 , 49.67807107, 41.73497976,\n",
       "       42.27662502, 24.31306268, 28.58226294, 52.7031583 , 21.69900427,\n",
       "       11.30035132, 29.77679968, 19.06934655, 46.46248985, 18.90260058,\n",
       "       28.42754929, 58.73299786, 42.65628664, 32.81281312, 45.65630674,\n",
       "       31.73871303, 40.17524457, 49.98295672, 57.33349765, 56.27376818,\n",
       "       43.37973307, 45.636677  , 17.91073458, 25.49207099, 54.25847501,\n",
       "       43.86770143, 24.41719448, 41.80112935, 48.72502444, 58.62779237,\n",
       "       59.61176401, 12.52527372, 34.87174403, 48.64477275, 25.70098813,\n",
       "       30.02179725, 58.58423893, 15.03608309, 30.21014274, 59.00001576,\n",
       "       42.14875934, 39.55411304, 21.39236571, 26.25766005, 10.90307858,\n",
       "       21.33954065, 54.63682441, 11.66048209, 14.65296828, 33.96963552,\n",
       "       16.6591192 , 23.67151076, 10.27946213, 28.0595781 , 40.42861752,\n",
       "       56.7293651 , 22.65956534, 48.74657033, 26.19368418, 11.32858453,\n",
       "       15.75845983, 25.13324079, 37.46683263, 52.95705437, 40.14218012,\n",
       "       11.29364215, 26.50556278, 48.79847218, 10.76301617, 41.0363397 ,\n",
       "       23.65908925, 17.45598012, 40.80591909, 38.81652464, 23.35548608,\n",
       "       12.1383512 , 39.06317715, 16.31809461, 16.05595076, 32.08143753,\n",
       "       48.58835829, 44.85356644, 32.43603809, 24.71383156, 43.12404494,\n",
       "       36.26560772, 34.75505317, 57.56983258, 31.48753291, 16.49477962,\n",
       "       13.48390814, 31.82981945, 41.17030747, 13.98549679, 25.25113017,\n",
       "       20.86970088, 28.24968685, 11.66175192, 51.606275  , 54.79016939,\n",
       "       57.88475468, 23.49884037, 36.4670194 , 41.92599235, 28.65163573,\n",
       "       50.16997994, 33.01913695, 21.13298029, 57.87363043, 19.13334018,\n",
       "       10.37351308, 45.76502879, 27.92239777, 28.94316183, 55.81894765])"
      ]
     },
     "execution_count": 8,
     "metadata": {},
     "output_type": "execute_result"
    }
   ],
   "source": [
    "uniform(10,60,1000)"
   ]
  },
  {
   "cell_type": "code",
   "execution_count": 9,
   "metadata": {},
   "outputs": [
    {
     "data": {
      "text/plain": [
       "(array([11.,  5.,  7., 10.,  9., 18., 11.,  7., 14.,  8.]),\n",
       " array([10.05506195, 10.54781359, 11.04056523, 11.53331686, 12.0260685 ,\n",
       "        12.51882014, 13.01157177, 13.50432341, 13.99707505, 14.48982668,\n",
       "        14.98257832]),\n",
       " <BarContainer object of 10 artists>)"
      ]
     },
     "execution_count": 9,
     "metadata": {},
     "output_type": "execute_result"
    },
    {
     "data": {
      "image/png": "[encoded data removed]",
      "text/plain": [
       "<Figure size 432x288 with 1 Axes>"
      ]
     },
     "metadata": {
      "needs_background": "light"
     },
     "output_type": "display_data"
    }
   ],
   "source": [
    "import matplotlib.pyplot as plt\n",
    "\n",
    "plt.hist(uniform(10,15,100))"
   ]
  },
  {
   "cell_type": "code",
   "execution_count": 10,
   "metadata": {},
   "outputs": [
    {
     "data": {
      "text/plain": [
       "(array([102., 106., 105., 104., 100.,  98.,  87., 104., 103.,  91.]),\n",
       " array([10.05269473, 15.03658308, 20.02047143, 25.00435978, 29.98824813,\n",
       "        34.97213648, 39.95602483, 44.93991318, 49.92380153, 54.90768988,\n",
       "        59.89157823]),\n",
       " <BarContainer object of 10 artists>)"
      ]
     },
     "execution_count": 10,
     "metadata": {},
     "output_type": "execute_result"
    },
    {
     "data": {
      "image/png": "[encoded data removed]",
      "text/plain": [
       "<Figure size 432x288 with 1 Axes>"
      ]
     },
     "metadata": {
      "needs_background": "light"
     },
     "output_type": "display_data"
    }
   ],
   "source": [
    "plt.hist(uniform(10,60,1000))"
   ]
  },
  {
   "cell_type": "markdown",
   "metadata": {},
   "source": [
    "How are the two distributions different?"
   ]
  },
  {
   "cell_type": "code",
   "execution_count": null,
   "metadata": {},
   "outputs": [],
   "source": [
    "# your answer here:\n"
   ]
  },
  {
   "cell_type": "markdown",
   "metadata": {},
   "source": [
    "## Normal Distribution\n",
    "\n",
    "1. In the same way in the Uniform Distribution challenge, write a function that generates normally distributed random numbers.\n",
    "1. Generate 1,000 normally distributed numbers with the average of 10 and standard deviation of 1\n",
    "1. Generate 1,000 normally distributed numbers with the average of 10 and standard deviation of 50\n",
    "2. Plot the distributions of the data generated.\n",
    "\n",
    "Expected output:\n",
    "\n",
    "![normal distribution](nd.png)"
   ]
  },
  {
   "cell_type": "code",
   "execution_count": 13,
   "metadata": {},
   "outputs": [],
   "source": [
    "# your code here\n",
    "import pandas as pd\n",
    "import numpy as np\n",
    "\n",
    "def normal(count, average, std):\n",
    "    return average + std*np.random.randn(count)\n"
   ]
  },
  {
   "cell_type": "code",
   "execution_count": 16,
   "metadata": {},
   "outputs": [
    {
     "data": {
      "image/png": "[encoded data removed]",
      "text/plain": [
       "<Figure size 432x288 with 1 Axes>"
      ]
     },
     "metadata": {
      "needs_background": "light"
     },
     "output_type": "display_data"
    },
    {
     "data": {
      "image/png": "[encoded data removed]",
      "text/plain": [
       "<Figure size 432x288 with 1 Axes>"
      ]
     },
     "metadata": {
      "needs_background": "light"
     },
     "output_type": "display_data"
    }
   ],
   "source": [
    "plt.hist(normal(1000, 10, 1),50)\n",
    "plt.show()\n",
    "plt.hist(normal(1000,10,50),50)\n",
    "plt.show()"
   ]
  },
  {
   "cell_type": "markdown",
   "metadata": {},
   "source": [
    "How are the two distributions different?"
   ]
  },
  {
   "cell_type": "code",
   "execution_count": null,
   "metadata": {},
   "outputs": [],
   "source": [
    "# your answer here:\n"
   ]
  },
  {
   "cell_type": "markdown",
   "metadata": {},
   "source": [
    "## Normal Distribution of Real Data\n",
    "\n",
    "In this challenge we are going to take a look the real data. We will use vehicles.csv file for this exercise"
   ]
  },
  {
   "cell_type": "markdown",
   "metadata": {},
   "source": [
    "First import vehicles.csv.\n",
    "Then plot the histograms for the following variables:\n",
    "\n",
    "1. Fuel Barrels/Year"
   ]
  },
  {
   "cell_type": "code",
   "execution_count": 18,
   "metadata": {},
   "outputs": [
    {
     "data": {
      "text/html": [
       "<div>\n",
       "<style scoped>\n",
       "    .dataframe tbody tr th:only-of-type {\n",
       "        vertical-align: middle;\n",
       "    }\n",
       "\n",
       "    .dataframe tbody tr th {\n",
       "        vertical-align: top;\n",
       "    }\n",
       "\n",
       "    .dataframe thead th {\n",
       "        text-align: right;\n",
       "    }\n",
       "</style>\n",
       "<table border=\"1\" class=\"dataframe\">\n",
       "  <thead>\n",
       "    <tr style=\"text-align: right;\">\n",
       "      <th></th>\n",
       "      <th>Make</th>\n",
       "      <th>Model</th>\n",
       "      <th>Year</th>\n",
       "      <th>Engine Displacement</th>\n",
       "      <th>Cylinders</th>\n",
       "      <th>Transmission</th>\n",
       "      <th>Drivetrain</th>\n",
       "      <th>Vehicle Class</th>\n",
       "      <th>Fuel Type</th>\n",
       "      <th>Fuel Barrels/Year</th>\n",
       "      <th>City MPG</th>\n",
       "      <th>Highway MPG</th>\n",
       "      <th>Combined MPG</th>\n",
       "      <th>CO2 Emission Grams/Mile</th>\n",
       "      <th>Fuel Cost/Year</th>\n",
       "    </tr>\n",
       "  </thead>\n",
       "  <tbody>\n",
       "    <tr>\n",
       "      <th>0</th>\n",
       "      <td>AM General</td>\n",
       "      <td>DJ Po Vehicle 2WD</td>\n",
       "      <td>1984</td>\n",
       "      <td>2.5</td>\n",
       "      <td>4.0</td>\n",
       "      <td>Automatic 3-spd</td>\n",
       "      <td>2-Wheel Drive</td>\n",
       "      <td>Special Purpose Vehicle 2WD</td>\n",
       "      <td>Regular</td>\n",
       "      <td>19.388824</td>\n",
       "      <td>18</td>\n",
       "      <td>17</td>\n",
       "      <td>17</td>\n",
       "      <td>522.764706</td>\n",
       "      <td>1950</td>\n",
       "    </tr>\n",
       "    <tr>\n",
       "      <th>1</th>\n",
       "      <td>AM General</td>\n",
       "      <td>FJ8c Post Office</td>\n",
       "      <td>1984</td>\n",
       "      <td>4.2</td>\n",
       "      <td>6.0</td>\n",
       "      <td>Automatic 3-spd</td>\n",
       "      <td>2-Wheel Drive</td>\n",
       "      <td>Special Purpose Vehicle 2WD</td>\n",
       "      <td>Regular</td>\n",
       "      <td>25.354615</td>\n",
       "      <td>13</td>\n",
       "      <td>13</td>\n",
       "      <td>13</td>\n",
       "      <td>683.615385</td>\n",
       "      <td>2550</td>\n",
       "    </tr>\n",
       "    <tr>\n",
       "      <th>2</th>\n",
       "      <td>AM General</td>\n",
       "      <td>Post Office DJ5 2WD</td>\n",
       "      <td>1985</td>\n",
       "      <td>2.5</td>\n",
       "      <td>4.0</td>\n",
       "      <td>Automatic 3-spd</td>\n",
       "      <td>Rear-Wheel Drive</td>\n",
       "      <td>Special Purpose Vehicle 2WD</td>\n",
       "      <td>Regular</td>\n",
       "      <td>20.600625</td>\n",
       "      <td>16</td>\n",
       "      <td>17</td>\n",
       "      <td>16</td>\n",
       "      <td>555.437500</td>\n",
       "      <td>2100</td>\n",
       "    </tr>\n",
       "    <tr>\n",
       "      <th>3</th>\n",
       "      <td>AM General</td>\n",
       "      <td>Post Office DJ8 2WD</td>\n",
       "      <td>1985</td>\n",
       "      <td>4.2</td>\n",
       "      <td>6.0</td>\n",
       "      <td>Automatic 3-spd</td>\n",
       "      <td>Rear-Wheel Drive</td>\n",
       "      <td>Special Purpose Vehicle 2WD</td>\n",
       "      <td>Regular</td>\n",
       "      <td>25.354615</td>\n",
       "      <td>13</td>\n",
       "      <td>13</td>\n",
       "      <td>13</td>\n",
       "      <td>683.615385</td>\n",
       "      <td>2550</td>\n",
       "    </tr>\n",
       "    <tr>\n",
       "      <th>4</th>\n",
       "      <td>ASC Incorporated</td>\n",
       "      <td>GNX</td>\n",
       "      <td>1987</td>\n",
       "      <td>3.8</td>\n",
       "      <td>6.0</td>\n",
       "      <td>Automatic 4-spd</td>\n",
       "      <td>Rear-Wheel Drive</td>\n",
       "      <td>Midsize Cars</td>\n",
       "      <td>Premium</td>\n",
       "      <td>20.600625</td>\n",
       "      <td>14</td>\n",
       "      <td>21</td>\n",
       "      <td>16</td>\n",
       "      <td>555.437500</td>\n",
       "      <td>2550</td>\n",
       "    </tr>\n",
       "  </tbody>\n",
       "</table>\n",
       "</div>"
      ],
      "text/plain": [
       "               Make                Model  Year  Engine Displacement  \\\n",
       "0        AM General    DJ Po Vehicle 2WD  1984                  2.5   \n",
       "1        AM General     FJ8c Post Office  1984                  4.2   \n",
       "2        AM General  Post Office DJ5 2WD  1985                  2.5   \n",
       "3        AM General  Post Office DJ8 2WD  1985                  4.2   \n",
       "4  ASC Incorporated                  GNX  1987                  3.8   \n",
       "\n",
       "   Cylinders     Transmission        Drivetrain                Vehicle Class  \\\n",
       "0        4.0  Automatic 3-spd     2-Wheel Drive  Special Purpose Vehicle 2WD   \n",
       "1        6.0  Automatic 3-spd     2-Wheel Drive  Special Purpose Vehicle 2WD   \n",
       "2        4.0  Automatic 3-spd  Rear-Wheel Drive  Special Purpose Vehicle 2WD   \n",
       "3        6.0  Automatic 3-spd  Rear-Wheel Drive  Special Purpose Vehicle 2WD   \n",
       "4        6.0  Automatic 4-spd  Rear-Wheel Drive                 Midsize Cars   \n",
       "\n",
       "  Fuel Type  Fuel Barrels/Year  City MPG  Highway MPG  Combined MPG  \\\n",
       "0   Regular          19.388824        18           17            17   \n",
       "1   Regular          25.354615        13           13            13   \n",
       "2   Regular          20.600625        16           17            16   \n",
       "3   Regular          25.354615        13           13            13   \n",
       "4   Premium          20.600625        14           21            16   \n",
       "\n",
       "   CO2 Emission Grams/Mile  Fuel Cost/Year  \n",
       "0               522.764706            1950  \n",
       "1               683.615385            2550  \n",
       "2               555.437500            2100  \n",
       "3               683.615385            2550  \n",
       "4               555.437500            2550  "
      ]
     },
     "execution_count": 18,
     "metadata": {},
     "output_type": "execute_result"
    }
   ],
   "source": [
    "# your code here\n",
    "vehicles = pd.read_csv('/Users/luismoreira/Desktop/Labs_Data/lab-probability-distributions/your-code/vehicles.csv')\n",
    "\n",
    "vehicles.head()"
   ]
  },
  {
   "cell_type": "code",
   "execution_count": 25,
   "metadata": {},
   "outputs": [
    {
     "data": {
      "image/png": "[encoded data removed]",
      "text/plain": [
       "<Figure size 432x288 with 1 Axes>"
      ]
     },
     "metadata": {
      "needs_background": "light"
     },
     "output_type": "display_data"
    }
   ],
   "source": [
    "plt.hist(vehicles['Fuel Barrels/Year'], 50)\n",
    "plt.show()"
   ]
  },
  {
   "cell_type": "markdown",
   "metadata": {},
   "source": [
    "2. CO2 Emission Grams/Mile "
   ]
  },
  {
   "cell_type": "code",
   "execution_count": 26,
   "metadata": {},
   "outputs": [
    {
     "data": {
      "image/png": "[encoded data removed]",
      "text/plain": [
       "<Figure size 432x288 with 1 Axes>"
      ]
     },
     "metadata": {
      "needs_background": "light"
     },
     "output_type": "display_data"
    }
   ],
   "source": [
    "# your code here\n",
    "plt.hist(vehicles['CO2 Emission Grams/Mile'], 50)\n",
    "plt.show()"
   ]
  },
  {
   "cell_type": "markdown",
   "metadata": {},
   "source": [
    "3. Combined MPG"
   ]
  },
  {
   "cell_type": "code",
   "execution_count": 27,
   "metadata": {},
   "outputs": [
    {
     "data": {
      "image/png": "[encoded data removed]",
      "text/plain": [
       "<Figure size 432x288 with 1 Axes>"
      ]
     },
     "metadata": {
      "needs_background": "light"
     },
     "output_type": "display_data"
    }
   ],
   "source": [
    "# your code here\n",
    "plt.hist(vehicles['Combined MPG'], 50)\n",
    "plt.show()"
   ]
  },
  {
   "cell_type": "markdown",
   "metadata": {},
   "source": [
    "Which one(s) of the variables are nearly normally distributed? How do you know?"
   ]
  },
  {
   "cell_type": "code",
   "execution_count": null,
   "metadata": {},
   "outputs": [],
   "source": [
    "# you answer here:\n",
    "# Combined MPG because the other ones have missing values in some bins"
   ]
  },
  {
   "cell_type": "markdown",
   "metadata": {},
   "source": [
    "## Exponential Distribution"
   ]
  },
  {
   "cell_type": "markdown",
   "metadata": {},
   "source": [
    "1. Using `numpy.random.exponential`, create a function that returns a list of numbers exponentially distributed with the mean of 10. \n",
    "\n",
    "1. Use the function to generate two number sequences with a mean of 1 and 100 and a size of 1000.\n",
    "\n",
    "1. Plot the distributions as histograms with the number of bins as 100.\n",
    "\n",
    "Your output should look like below:\n",
    "\n",
    "![exponential distribution](ed.png)"
   ]
  },
  {
   "cell_type": "code",
   "execution_count": 33,
   "metadata": {},
   "outputs": [
    {
     "data": {
      "image/png": "[encoded data removed]",
      "text/plain": [
       "<Figure size 432x288 with 1 Axes>"
      ]
     },
     "metadata": {
      "needs_background": "light"
     },
     "output_type": "display_data"
    },
    {
     "data": {
      "image/png": "[encoded data removed]",
      "text/plain": [
       "<Figure size 432x288 with 1 Axes>"
      ]
     },
     "metadata": {
      "needs_background": "light"
     },
     "output_type": "display_data"
    }
   ],
   "source": [
    "# your code here\n",
    "\n",
    "def exp(count, average):\n",
    "    return np.random.exponential(average, 1000) \n",
    "\n",
    "plt.hist(exp(1000,1),100)\n",
    "plt.show()\n",
    "plt.hist(exp(1000,100),100)\n",
    "plt.show()"
   ]
  },
  {
   "cell_type": "markdown",
   "metadata": {},
   "source": [
    "How are the two distributions different?"
   ]
  },
  {
   "cell_type": "code",
   "execution_count": null,
   "metadata": {},
   "outputs": [],
   "source": [
    "# your answer here:\n",
    "# same shape, different scale (divided by 100)"
   ]
  },
  {
   "cell_type": "markdown",
   "metadata": {},
   "source": [
    "## Exponential Distribution of Real Data\n",
    "\n",
    "Suppose that the amount of time one spends in a bank is exponentially distributed with mean as 10 minutes (i.e. λ = 1/10). What is the probability that a customer will spend less than fifteen minutes in the bank? \n",
    "\n",
    "Write a code in python to solve this problem"
   ]
  },
  {
   "cell_type": "code",
   "execution_count": 38,
   "metadata": {},
   "outputs": [
    {
     "data": {
      "text/plain": [
       "0.7768698398515702"
      ]
     },
     "execution_count": 38,
     "metadata": {},
     "output_type": "execute_result"
    }
   ],
   "source": [
    "# your answer here\n",
    "# Hint: This is same as saying P(x<15)\n",
    "\n",
    "from scipy.stats import expon\n",
    "\n",
    "lamb_inv = 10\n",
    "\n",
    "exp_dist = expon(scale = lamb_inv)\n",
    "\n",
    "exp_dist.cdf(15)"
   ]
  },
  {
   "cell_type": "markdown",
   "metadata": {},
   "source": [
    "What is the probability that the customer will spend more than 15 minutes"
   ]
  },
  {
   "cell_type": "code",
   "execution_count": 39,
   "metadata": {},
   "outputs": [
    {
     "data": {
      "text/plain": [
       "0.22313016014842982"
      ]
     },
     "execution_count": 39,
     "metadata": {},
     "output_type": "execute_result"
    }
   ],
   "source": [
    "# your answer here\n",
    "exp_dist.sf(15)"
   ]
  },
  {
   "cell_type": "code",
   "execution_count": 41,
   "metadata": {},
   "outputs": [
    {
     "data": {
      "text/plain": [
       "0.2231301601484298"
      ]
     },
     "execution_count": 41,
     "metadata": {},
     "output_type": "execute_result"
    }
   ],
   "source": [
    "1-exp_dist.cdf(15)"
   ]
  },
  {
   "cell_type": "code",
   "execution_count": null,
   "metadata": {},
   "outputs": [],
   "source": []
  }
 ],
 "metadata": {
  "kernelspec": {
   "display_name": "Python 3",
   "language": "python",
   "name": "python3"
  },
  "language_info": {
   "codemirror_mode": {
    "name": "ipython",
    "version": 3
   },
   "file_extension": ".py",
   "mimetype": "text/x-python",
   "name": "python",
   "nbconvert_exporter": "python",
   "pygments_lexer": "ipython3",
   "version": "3.8.8"
  }
 },
 "nbformat": 4,
 "nbformat_minor": 4
}
